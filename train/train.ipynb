{
 "cells": [
  {
   "cell_type": "markdown",
   "metadata": {},
   "source": [
    "# file upload"
   ]
  },
  {
   "cell_type": "code",
   "execution_count": 1,
   "metadata": {},
   "outputs": [
    {
     "data": {
      "text/plain": [
       "FileObject(id='file-fGOXAlC81EAVx8Tne80eYPQh', bytes=1641828, created_at=1700657050, filename='train_data_must_choose.jsonl', object='file', purpose='fine-tune', status='processed', status_details=None)"
      ]
     },
     "execution_count": 1,
     "metadata": {},
     "output_type": "execute_result"
    }
   ],
   "source": [
    "from openai import OpenAI\n",
    "client = OpenAI()\n",
    "\n",
    "client.files.create(\n",
    "  file=open(rf\"..\\lab\\train_data_must_choose.jsonl\", \"rb\"),\n",
    "  purpose=\"fine-tune\"\n",
    ")"
   ]
  },
  {
   "cell_type": "code",
   "execution_count": 2,
   "metadata": {},
   "outputs": [
    {
     "data": {
      "text/plain": [
       "SyncPage[FileObject](data=[FileObject(id='file-4rwWPPSsizTaysDjxLxiLQc8', bytes=3055177, created_at=1700622096, filename='train_data.jsonl', object='file', purpose='fine-tune', status='processed', status_details=None), FileObject(id='file-nzMbWqIjs7JHn5aXufw4b8n9', bytes=11076, created_at=1700497385, filename='step_metrics.csv', object='file', purpose='fine-tune-results', status='processed', status_details=None), FileObject(id='file-XQ1ucYhlwiPqPBLny5oUrVMK', bytes=1054415, created_at=1700495948, filename='train_data200.jsonl', object='file', purpose='fine-tune', status='processed', status_details=None), FileObject(id='file-1EDSAKnqPIMuEsS7TPj5xjUj', bytes=2426, created_at=1700494508, filename='step_metrics.csv', object='file', purpose='fine-tune-results', status='processed', status_details=None), FileObject(id='file-EHFI0yVClE87h5I3ZG5VDQ8u', bytes=163412, created_at=1700493872, filename='train_data.jsonl', object='file', purpose='fine-tune', status='processed', status_details=None)], object='list', has_more=False)"
      ]
     },
     "execution_count": 2,
     "metadata": {},
     "output_type": "execute_result"
    }
   ],
   "source": [
    "client.files.list()"
   ]
  },
  {
   "cell_type": "markdown",
   "metadata": {},
   "source": [
    "# train"
   ]
  },
  {
   "cell_type": "code",
   "execution_count": 2,
   "metadata": {},
   "outputs": [
    {
     "data": {
      "text/plain": [
       "FineTuningJob(id='ftjob-DWNg6OK8y9Y7KFJOtsHEKvNp', created_at=1700657163, error=None, fine_tuned_model=None, finished_at=None, hyperparameters=Hyperparameters(n_epochs='auto', batch_size='auto', learning_rate_multiplier='auto'), model='ft:gpt-3.5-turbo-1106:personal::8NYtED1H', object='fine_tuning.job', organization_id='org-7tcA3fCFNtS4samnDDBqf1Cj', result_files=[], status='validating_files', trained_tokens=None, training_file='file-fGOXAlC81EAVx8Tne80eYPQh', validation_file=None)"
      ]
     },
     "execution_count": 2,
     "metadata": {},
     "output_type": "execute_result"
    }
   ],
   "source": [
    "from openai import OpenAI\n",
    "client = OpenAI()\n",
    "\n",
    "client.fine_tuning.jobs.create(\n",
    "  training_file=\"file-fGOXAlC81EAVx8Tne80eYPQh\", \n",
    "#   model=\"gpt-3.5-turbo\"\n",
    "  model=\"ft:gpt-3.5-turbo-1106:personal::8NYtED1H\"\n",
    ")"
   ]
  },
  {
   "cell_type": "code",
   "execution_count": 24,
   "metadata": {},
   "outputs": [
    {
     "data": {
      "text/plain": [
       "SyncCursorPage[FineTuningJob](data=[FineTuningJob(id='ftjob-yowkQlxVCPAGIfZqp9BNjhqt', created_at=1700494193, error=None, fine_tuned_model='ft:gpt-3.5-turbo-0613:personal::8N0agg9Z', finished_at=1700494505, hyperparameters=Hyperparameters(n_epochs=3, batch_size=1, learning_rate_multiplier=2), model='gpt-3.5-turbo-0613', object='fine_tuning.job', organization_id='org-7tcA3fCFNtS4samnDDBqf1Cj', result_files=['file-1EDSAKnqPIMuEsS7TPj5xjUj'], status='succeeded', trained_tokens=143541, training_file='file-EHFI0yVClE87h5I3ZG5VDQ8u', validation_file=None)], object='list', has_more=False)"
      ]
     },
     "execution_count": 24,
     "metadata": {},
     "output_type": "execute_result"
    }
   ],
   "source": [
    "client.fine_tuning.jobs.list()\n"
   ]
  },
  {
   "cell_type": "code",
   "execution_count": 25,
   "metadata": {},
   "outputs": [
    {
     "data": {
      "text/plain": [
       "FineTuningJob(id='ftjob-yowkQlxVCPAGIfZqp9BNjhqt', created_at=1700494193, error=None, fine_tuned_model='ft:gpt-3.5-turbo-0613:personal::8N0agg9Z', finished_at=1700494505, hyperparameters=Hyperparameters(n_epochs=3, batch_size=1, learning_rate_multiplier=2), model='gpt-3.5-turbo-0613', object='fine_tuning.job', organization_id='org-7tcA3fCFNtS4samnDDBqf1Cj', result_files=['file-1EDSAKnqPIMuEsS7TPj5xjUj'], status='succeeded', trained_tokens=143541, training_file='file-EHFI0yVClE87h5I3ZG5VDQ8u', validation_file=None)"
      ]
     },
     "execution_count": 25,
     "metadata": {},
     "output_type": "execute_result"
    }
   ],
   "source": [
    "client.fine_tuning.jobs.retrieve('ftjob-yowkQlxVCPAGIfZqp9BNjhqt')"
   ]
  }
 ],
 "metadata": {
  "kernelspec": {
   "display_name": "base",
   "language": "python",
   "name": "python3"
  },
  "language_info": {
   "codemirror_mode": {
    "name": "ipython",
    "version": 3
   },
   "file_extension": ".py",
   "mimetype": "text/x-python",
   "name": "python",
   "nbconvert_exporter": "python",
   "pygments_lexer": "ipython3",
   "version": "3.11.5"
  }
 },
 "nbformat": 4,
 "nbformat_minor": 2
}
