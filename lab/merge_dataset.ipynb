{
 "cells": [
  {
   "cell_type": "code",
   "execution_count": 38,
   "metadata": {},
   "outputs": [],
   "source": [
    "def mrege_2_file(in_path1 , in_path2 , out_path):\n",
    "    with open(in_path1, 'r'  , encoding=\"utf-8-sig\") as f1 , open(in_path2, 'r' , encoding=\"utf-8-sig\") as f2 , open(out_path, 'w' , encoding=\"utf-8\") as f3:\n",
    "        \n",
    "        file1 = f1.read().strip()\n",
    "        file2 = f2.read().strip()\n",
    "        f3.write(file1)\n",
    "        f3.write('\\n')\n",
    "        f3.write(file2)"
   ]
  },
  {
   "cell_type": "code",
   "execution_count": 39,
   "metadata": {},
   "outputs": [],
   "source": [
    "# merge First_Phase and Second_Phase\n",
    "p1 = rf'..\\First_Phase\\answer.txt'\n",
    "p2 = rf'..\\Second_Phase\\answer.txt'\n",
    "p3 = rf'..\\merge_first_second_phase\\answer.txt'\n",
    "mrege_2_file(p1,p2,p3)"
   ]
  }
 ],
 "metadata": {
  "kernelspec": {
   "display_name": "base",
   "language": "python",
   "name": "python3"
  },
  "language_info": {
   "codemirror_mode": {
    "name": "ipython",
    "version": 3
   },
   "file_extension": ".py",
   "mimetype": "text/x-python",
   "name": "python",
   "nbconvert_exporter": "python",
   "pygments_lexer": "ipython3",
   "version": "3.11.5"
  }
 },
 "nbformat": 4,
 "nbformat_minor": 2
}
