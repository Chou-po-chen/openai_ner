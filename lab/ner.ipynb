{
 "cells": [
  {
   "cell_type": "code",
   "execution_count": null,
   "metadata": {},
   "outputs": [],
   "source": [
    "# get env openai key \n",
    "import os\n",
    "openai_key = os.getenv('OPENAI_API_KEY')\n",
    "# print(openai_key)"
   ]
  },
  {
   "cell_type": "markdown",
   "metadata": {},
   "source": [
    "原始模型"
   ]
  },
  {
   "cell_type": "code",
   "execution_count": 11,
   "metadata": {},
   "outputs": [
    {
     "name": "stdout",
     "output_type": "stream",
     "text": [
      "ChatCompletionMessage(content='PHI (Protected Health Information) in this text:\\n\\n- Lab No: 09F01654\\n- D.O.B: 24/8/1993\\n- Sex: M\\n- Collected: 28/08/2013 at 08:26\\n- Location: St Vincent-BATLOW/ADELONG MULTI PURPOSE SERVICE\\n- Doctor\\'s Name: Dr JAXON AL-KARSTEN\\n- The patient\\'s name, \"SIZAR, HOWARD\"\\n- Specimen: Prostate and seminal vesicles\\n- Histological type: Acinar adenocarcinoma\\n- Tumour location: Left mid posterolateral\\n- Gleason score: 3+4=7\\n- Extraprostatic extension: Absent\\n- Surgical margins: Clear\\n- Perineural invasion: Absent\\n- Seminal vesicles: Not involved\\n- Lymph nodes: N/A\\n- Lymphovascular invasion: Absent\\n- Other: Patchy high grade prostatic intraepithelial neoplasia (PIN) is present.\\n- Stage (AJCC/UICC TNM system, 7th edition): pT2c, NX, MX\\n\\n\\nNormalized Time Information:\\n- Collected: 28/08/2013 at 08:26\\n\\nPlease note that the time information provided is already in a normalized format.', role='assistant', function_call=None, tool_calls=None)\n"
     ]
    }
   ],
   "source": [
    "from openai import OpenAI\n",
    "\n",
    "\n",
    "file = ''\n",
    "with open(r'First_Phase\\data\\10.txt', 'r') as f:\n",
    "    file = f.read()\n",
    "\n",
    "input = file\n",
    "\n",
    "\n",
    "client = OpenAI()\n",
    "completion = client.chat.completions.create(\n",
    "  model=\"gpt-3.5-turbo\",\n",
    "  messages=[\n",
    "    {\"role\": \"system\", \"content\": \"Find PHI and normalize time information\"},\n",
    "    {\"role\": \"user\", \"content\": input}\n",
    "  ]\n",
    ")\n",
    "\n",
    "print(completion.choices[0].message)"
   ]
  },
  {
   "cell_type": "code",
   "execution_count": 32,
   "metadata": {},
   "outputs": [
    {
     "name": "stdout",
     "output_type": "stream",
     "text": [
      "PHI (Protected Health Information) in this text:\n",
      "\n",
      "- Lab No: 09F01654\n",
      "- D.O.B: 24/8/1993\n",
      "- Sex: M\n",
      "- Collected: 28/08/2013 at 08:26\n",
      "- Location: St Vincent-BATLOW/ADELONG MULTI PURPOSE SERVICE\n",
      "- Doctor's Name: Dr JAXON AL-KARSTEN\n",
      "- The patient's name, \"SIZAR, HOWARD\"\n",
      "- Specimen: Prostate and seminal vesicles\n",
      "- Histological type: Acinar adenocarcinoma\n",
      "- Tumour location: Left mid posterolateral\n",
      "- Gleason score: 3+4=7\n",
      "- Extraprostatic extension: Absent\n",
      "- Surgical margins: Clear\n",
      "- Perineural invasion: Absent\n",
      "- Seminal vesicles: Not involved\n",
      "- Lymph nodes: N/A\n",
      "- Lymphovascular invasion: Absent\n",
      "- Other: Patchy high grade prostatic intraepithelial neoplasia (PIN) is present.\n",
      "- Stage (AJCC/UICC TNM system, 7th edition): pT2c, NX, MX\n",
      "\n",
      "\n",
      "Normalized Time Information:\n",
      "- Collected: 28/08/2013 at 08:26\n",
      "\n",
      "Please note that the time information provided is already in a normalized format.\n"
     ]
    }
   ],
   "source": [
    "str  = completion.choices[0].message.content\n",
    "# replace all '\\\\n' with '\\n'\n",
    "# str = str.replace('\\\\n','\\n')\n",
    "print(str)"
   ]
  },
  {
   "cell_type": "markdown",
   "metadata": {},
   "source": [
    "微調過模型"
   ]
  },
  {
   "cell_type": "code",
   "execution_count": 2,
   "metadata": {},
   "outputs": [
    {
     "name": "stdout",
     "output_type": "stream",
     "text": [
      "ChatCompletionMessage(content='MEDICALRECORD: 009423.CMG\\nPATIENT: HANE, MOHAMED\\nIDNUM: 00Y42304\\nDATE: 22/2/2062=>2062-02-22\\nDOCTOR: JX\\nDOCTOR: ZF\\nDATE: 19.2.62=>2062-02-19\\nDOCTOR: EQ\\nDOCTOR: IH\\nDATE: 20.2.62=>2062-02-20\\nDOCTOR: TERENCE FREUDENTHAL\\nDOCTOR: RUDOLF KATZENBACH\\nDOCTOR: C Sandavol\\n', role='assistant', function_call=None, tool_calls=None)\n"
     ]
    }
   ],
   "source": [
    "from openai import OpenAI\n",
    "\n",
    "\n",
    "file = ''\n",
    "with open(r'../First_Phase\\data\\57.txt', 'r') as f:\n",
    "    file = f.read()\n",
    "\n",
    "input = file\n",
    "\n",
    "\n",
    "client = OpenAI()\n",
    "completion = client.chat.completions.create(\n",
    "  model=\"ft:gpt-3.5-turbo-0613:personal::8N0agg9Z\",\n",
    "  messages=[\n",
    "    {\"role\": \"system\", \"content\": \"Find PHI and normalize time information\"},\n",
    "    {\"role\": \"user\", \"content\": input}\n",
    "  ]\n",
    ")\n",
    "\n",
    "print(completion.choices[0].message)"
   ]
  },
  {
   "cell_type": "code",
   "execution_count": 4,
   "metadata": {},
   "outputs": [
    {
     "name": "stdout",
     "output_type": "stream",
     "text": [
      "MEDICALRECORD: 009423.CMG\n",
      "PATIENT: HANE, MOHAMED\n",
      "IDNUM: 00Y42304\n",
      "DATE: 22/2/2062=>2062-02-22\n",
      "DOCTOR: JX\n",
      "DOCTOR: ZF\n",
      "DATE: 19.2.62=>2062-02-19\n",
      "DOCTOR: EQ\n",
      "DOCTOR: IH\n",
      "DATE: 20.2.62=>2062-02-20\n",
      "DOCTOR: TERENCE FREUDENTHAL\n",
      "DOCTOR: RUDOLF KATZENBACH\n",
      "DOCTOR: C Sandavol\n",
      "\n"
     ]
    }
   ],
   "source": [
    "str  = completion.choices[0].message.content\n",
    "# replace all '\\\\n' with '\\n'\n",
    "# str = str.replace('\\\\n','\\n')\n",
    "print(str)"
   ]
  },
  {
   "cell_type": "code",
   "execution_count": null,
   "metadata": {},
   "outputs": [],
   "source": [
    "str = '''MEDICALRECORD: 009423.CMG\n",
    "PATIENT: HANE, MOHAMED\n",
    "IDNUM: 00Y42304\n",
    "DATE: 22/2/2062=>2062-02-22\n",
    "DOCTOR: JX\n",
    "DOCTOR: ZF\n",
    "DATE: 19.2.62=>2062-02-19\n",
    "DOCTOR: EQ\n",
    "DOCTOR: IH\n",
    "DATE: 20.2.62=>2062-02-20\n",
    "DOCTOR: C Sandavol\n",
    "DOCTOR: TERENCE FREUDENTHAL\n",
    "DOCTOR: RUDOLF KATZENBACH'''"
   ]
  },
  {
   "cell_type": "code",
   "execution_count": 50,
   "metadata": {},
   "outputs": [],
   "source": [
    "from Answer_file_generator import Answer_file_generator\n",
    "import re\n",
    "file_gen = Answer_file_generator('answer.txt')\n",
    "\n",
    "\n"
   ]
  },
  {
   "cell_type": "code",
   "execution_count": 51,
   "metadata": {},
   "outputs": [],
   "source": [
    "gpt_res = str\n",
    "now_index = 0\n",
    "file_name = '57'\n",
    "for line in gpt_res.split('\\n'):\n",
    "    #IDNUM: 00Y42304\n",
    "    cilon_index = line.find(':')\n",
    "    if cilon_index != -1:\n",
    "        label = line[:cilon_index]\n",
    "        content = line[cilon_index+2:]\n",
    "        time = None\n",
    "        if content.find('=>')!=-1:\n",
    "            time = content[content.find('=>')+2:]\n",
    "            content = content[:content.find('=>')]\n",
    "            \n",
    "        \n",
    "        pattern = re.compile(content)\n",
    "        match = pattern.search(input , pos=now_index)\n",
    "        if match!=None:\n",
    "            start_index = match.start()\n",
    "            end_index = match.end()\n",
    "            now_index = end_index\n",
    "            file_gen.add_item(file_name , start_index , end_index , label , content , time)    \n",
    "            \n",
    "file_gen.save()"
   ]
  }
 ],
 "metadata": {
  "kernelspec": {
   "display_name": "base",
   "language": "python",
   "name": "python3"
  },
  "language_info": {
   "codemirror_mode": {
    "name": "ipython",
    "version": 3
   },
   "file_extension": ".py",
   "mimetype": "text/x-python",
   "name": "python",
   "nbconvert_exporter": "python",
   "pygments_lexer": "ipython3",
   "version": "3.11.5"
  }
 },
 "nbformat": 4,
 "nbformat_minor": 2
}
